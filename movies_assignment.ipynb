{
 "cells": [
  {
   "cell_type": "code",
   "execution_count": 1,
   "id": "1aaf59bd-865b-4d9a-9ddd-181c3dc3fdfa",
   "metadata": {},
   "outputs": [],
   "source": [
    "import matplotlib.pyplot as plt\n",
    "import numpy as np\n",
    "import pandas as pd\n",
    "import seaborn as sns\n",
    "\n",
    "plt.style.use(\"ggplot\")"
   ]
  },
  {
   "cell_type": "code",
   "execution_count": 2,
   "id": "9b233e5a-9136-4bd2-b871-1f94db21125a",
   "metadata": {},
   "outputs": [
    {
     "data": {
      "text/html": [
       "<div>\n",
       "<style scoped>\n",
       "    .dataframe tbody tr th:only-of-type {\n",
       "        vertical-align: middle;\n",
       "    }\n",
       "\n",
       "    .dataframe tbody tr th {\n",
       "        vertical-align: top;\n",
       "    }\n",
       "\n",
       "    .dataframe thead th {\n",
       "        text-align: right;\n",
       "    }\n",
       "</style>\n",
       "<table border=\"1\" class=\"dataframe\">\n",
       "  <thead>\n",
       "    <tr style=\"text-align: right;\">\n",
       "      <th></th>\n",
       "      <th>movieId</th>\n",
       "      <th>title</th>\n",
       "      <th>genres</th>\n",
       "    </tr>\n",
       "  </thead>\n",
       "  <tbody>\n",
       "    <tr>\n",
       "      <th>0</th>\n",
       "      <td>1</td>\n",
       "      <td>Toy Story (1995)</td>\n",
       "      <td>Adventure|Animation|Children|Comedy|Fantasy</td>\n",
       "    </tr>\n",
       "    <tr>\n",
       "      <th>1</th>\n",
       "      <td>2</td>\n",
       "      <td>Jumanji (1995)</td>\n",
       "      <td>Adventure|Children|Fantasy</td>\n",
       "    </tr>\n",
       "    <tr>\n",
       "      <th>2</th>\n",
       "      <td>3</td>\n",
       "      <td>Grumpier Old Men (1995)</td>\n",
       "      <td>Comedy|Romance</td>\n",
       "    </tr>\n",
       "    <tr>\n",
       "      <th>3</th>\n",
       "      <td>4</td>\n",
       "      <td>Waiting to Exhale (1995)</td>\n",
       "      <td>Comedy|Drama|Romance</td>\n",
       "    </tr>\n",
       "    <tr>\n",
       "      <th>4</th>\n",
       "      <td>5</td>\n",
       "      <td>Father of the Bride Part II (1995)</td>\n",
       "      <td>Comedy</td>\n",
       "    </tr>\n",
       "    <tr>\n",
       "      <th>...</th>\n",
       "      <td>...</td>\n",
       "      <td>...</td>\n",
       "      <td>...</td>\n",
       "    </tr>\n",
       "    <tr>\n",
       "      <th>9737</th>\n",
       "      <td>193581</td>\n",
       "      <td>Black Butler: Book of the Atlantic (2017)</td>\n",
       "      <td>Action|Animation|Comedy|Fantasy</td>\n",
       "    </tr>\n",
       "    <tr>\n",
       "      <th>9738</th>\n",
       "      <td>193583</td>\n",
       "      <td>No Game No Life: Zero (2017)</td>\n",
       "      <td>Animation|Comedy|Fantasy</td>\n",
       "    </tr>\n",
       "    <tr>\n",
       "      <th>9739</th>\n",
       "      <td>193585</td>\n",
       "      <td>Flint (2017)</td>\n",
       "      <td>Drama</td>\n",
       "    </tr>\n",
       "    <tr>\n",
       "      <th>9740</th>\n",
       "      <td>193587</td>\n",
       "      <td>Bungo Stray Dogs: Dead Apple (2018)</td>\n",
       "      <td>Action|Animation</td>\n",
       "    </tr>\n",
       "    <tr>\n",
       "      <th>9741</th>\n",
       "      <td>193609</td>\n",
       "      <td>Andrew Dice Clay: Dice Rules (1991)</td>\n",
       "      <td>Comedy</td>\n",
       "    </tr>\n",
       "  </tbody>\n",
       "</table>\n",
       "<p>9742 rows × 3 columns</p>\n",
       "</div>"
      ],
      "text/plain": [
       "      movieId                                      title  \\\n",
       "0           1                           Toy Story (1995)   \n",
       "1           2                             Jumanji (1995)   \n",
       "2           3                    Grumpier Old Men (1995)   \n",
       "3           4                   Waiting to Exhale (1995)   \n",
       "4           5         Father of the Bride Part II (1995)   \n",
       "...       ...                                        ...   \n",
       "9737   193581  Black Butler: Book of the Atlantic (2017)   \n",
       "9738   193583               No Game No Life: Zero (2017)   \n",
       "9739   193585                               Flint (2017)   \n",
       "9740   193587        Bungo Stray Dogs: Dead Apple (2018)   \n",
       "9741   193609        Andrew Dice Clay: Dice Rules (1991)   \n",
       "\n",
       "                                           genres  \n",
       "0     Adventure|Animation|Children|Comedy|Fantasy  \n",
       "1                      Adventure|Children|Fantasy  \n",
       "2                                  Comedy|Romance  \n",
       "3                            Comedy|Drama|Romance  \n",
       "4                                          Comedy  \n",
       "...                                           ...  \n",
       "9737              Action|Animation|Comedy|Fantasy  \n",
       "9738                     Animation|Comedy|Fantasy  \n",
       "9739                                        Drama  \n",
       "9740                             Action|Animation  \n",
       "9741                                       Comedy  \n",
       "\n",
       "[9742 rows x 3 columns]"
      ]
     },
     "execution_count": 2,
     "metadata": {},
     "output_type": "execute_result"
    }
   ],
   "source": [
    "movies_df = pd.read_csv(\"movies.csv\")\n",
    "movies_df"
   ]
  },
  {
   "cell_type": "code",
   "execution_count": 3,
   "id": "f6f7de58-c7c6-4eb7-8a67-0493c65da675",
   "metadata": {},
   "outputs": [
    {
     "data": {
      "text/html": [
       "<div>\n",
       "<style scoped>\n",
       "    .dataframe tbody tr th:only-of-type {\n",
       "        vertical-align: middle;\n",
       "    }\n",
       "\n",
       "    .dataframe tbody tr th {\n",
       "        vertical-align: top;\n",
       "    }\n",
       "\n",
       "    .dataframe thead th {\n",
       "        text-align: right;\n",
       "    }\n",
       "</style>\n",
       "<table border=\"1\" class=\"dataframe\">\n",
       "  <thead>\n",
       "    <tr style=\"text-align: right;\">\n",
       "      <th></th>\n",
       "      <th>userId</th>\n",
       "      <th>movieId</th>\n",
       "      <th>rating</th>\n",
       "      <th>timestamp</th>\n",
       "    </tr>\n",
       "  </thead>\n",
       "  <tbody>\n",
       "    <tr>\n",
       "      <th>0</th>\n",
       "      <td>1</td>\n",
       "      <td>1</td>\n",
       "      <td>4.0</td>\n",
       "      <td>964982703</td>\n",
       "    </tr>\n",
       "    <tr>\n",
       "      <th>1</th>\n",
       "      <td>1</td>\n",
       "      <td>3</td>\n",
       "      <td>4.0</td>\n",
       "      <td>964981247</td>\n",
       "    </tr>\n",
       "    <tr>\n",
       "      <th>2</th>\n",
       "      <td>1</td>\n",
       "      <td>6</td>\n",
       "      <td>4.0</td>\n",
       "      <td>964982224</td>\n",
       "    </tr>\n",
       "    <tr>\n",
       "      <th>3</th>\n",
       "      <td>1</td>\n",
       "      <td>47</td>\n",
       "      <td>5.0</td>\n",
       "      <td>964983815</td>\n",
       "    </tr>\n",
       "    <tr>\n",
       "      <th>4</th>\n",
       "      <td>1</td>\n",
       "      <td>50</td>\n",
       "      <td>5.0</td>\n",
       "      <td>964982931</td>\n",
       "    </tr>\n",
       "    <tr>\n",
       "      <th>...</th>\n",
       "      <td>...</td>\n",
       "      <td>...</td>\n",
       "      <td>...</td>\n",
       "      <td>...</td>\n",
       "    </tr>\n",
       "    <tr>\n",
       "      <th>100831</th>\n",
       "      <td>610</td>\n",
       "      <td>166534</td>\n",
       "      <td>4.0</td>\n",
       "      <td>1493848402</td>\n",
       "    </tr>\n",
       "    <tr>\n",
       "      <th>100832</th>\n",
       "      <td>610</td>\n",
       "      <td>168248</td>\n",
       "      <td>5.0</td>\n",
       "      <td>1493850091</td>\n",
       "    </tr>\n",
       "    <tr>\n",
       "      <th>100833</th>\n",
       "      <td>610</td>\n",
       "      <td>168250</td>\n",
       "      <td>5.0</td>\n",
       "      <td>1494273047</td>\n",
       "    </tr>\n",
       "    <tr>\n",
       "      <th>100834</th>\n",
       "      <td>610</td>\n",
       "      <td>168252</td>\n",
       "      <td>5.0</td>\n",
       "      <td>1493846352</td>\n",
       "    </tr>\n",
       "    <tr>\n",
       "      <th>100835</th>\n",
       "      <td>610</td>\n",
       "      <td>170875</td>\n",
       "      <td>3.0</td>\n",
       "      <td>1493846415</td>\n",
       "    </tr>\n",
       "  </tbody>\n",
       "</table>\n",
       "<p>100836 rows × 4 columns</p>\n",
       "</div>"
      ],
      "text/plain": [
       "        userId  movieId  rating   timestamp\n",
       "0            1        1     4.0   964982703\n",
       "1            1        3     4.0   964981247\n",
       "2            1        6     4.0   964982224\n",
       "3            1       47     5.0   964983815\n",
       "4            1       50     5.0   964982931\n",
       "...        ...      ...     ...         ...\n",
       "100831     610   166534     4.0  1493848402\n",
       "100832     610   168248     5.0  1493850091\n",
       "100833     610   168250     5.0  1494273047\n",
       "100834     610   168252     5.0  1493846352\n",
       "100835     610   170875     3.0  1493846415\n",
       "\n",
       "[100836 rows x 4 columns]"
      ]
     },
     "execution_count": 3,
     "metadata": {},
     "output_type": "execute_result"
    }
   ],
   "source": [
    "ratings_df = pd.read_csv(\"ratings.csv\")\n",
    "ratings_df"
   ]
  },
  {
   "cell_type": "code",
   "execution_count": 4,
   "id": "ce817e56-4be1-4981-9256-ebd3389ba048",
   "metadata": {},
   "outputs": [
    {
     "data": {
      "text/html": [
       "<div>\n",
       "<style scoped>\n",
       "    .dataframe tbody tr th:only-of-type {\n",
       "        vertical-align: middle;\n",
       "    }\n",
       "\n",
       "    .dataframe tbody tr th {\n",
       "        vertical-align: top;\n",
       "    }\n",
       "\n",
       "    .dataframe thead th {\n",
       "        text-align: right;\n",
       "    }\n",
       "</style>\n",
       "<table border=\"1\" class=\"dataframe\">\n",
       "  <thead>\n",
       "    <tr style=\"text-align: right;\">\n",
       "      <th></th>\n",
       "      <th>movieId</th>\n",
       "      <th>imdbId</th>\n",
       "      <th>tmdbId</th>\n",
       "    </tr>\n",
       "  </thead>\n",
       "  <tbody>\n",
       "    <tr>\n",
       "      <th>0</th>\n",
       "      <td>1</td>\n",
       "      <td>114709</td>\n",
       "      <td>862.0</td>\n",
       "    </tr>\n",
       "    <tr>\n",
       "      <th>1</th>\n",
       "      <td>2</td>\n",
       "      <td>113497</td>\n",
       "      <td>8844.0</td>\n",
       "    </tr>\n",
       "    <tr>\n",
       "      <th>2</th>\n",
       "      <td>3</td>\n",
       "      <td>113228</td>\n",
       "      <td>15602.0</td>\n",
       "    </tr>\n",
       "    <tr>\n",
       "      <th>3</th>\n",
       "      <td>4</td>\n",
       "      <td>114885</td>\n",
       "      <td>31357.0</td>\n",
       "    </tr>\n",
       "    <tr>\n",
       "      <th>4</th>\n",
       "      <td>5</td>\n",
       "      <td>113041</td>\n",
       "      <td>11862.0</td>\n",
       "    </tr>\n",
       "    <tr>\n",
       "      <th>...</th>\n",
       "      <td>...</td>\n",
       "      <td>...</td>\n",
       "      <td>...</td>\n",
       "    </tr>\n",
       "    <tr>\n",
       "      <th>9737</th>\n",
       "      <td>193581</td>\n",
       "      <td>5476944</td>\n",
       "      <td>432131.0</td>\n",
       "    </tr>\n",
       "    <tr>\n",
       "      <th>9738</th>\n",
       "      <td>193583</td>\n",
       "      <td>5914996</td>\n",
       "      <td>445030.0</td>\n",
       "    </tr>\n",
       "    <tr>\n",
       "      <th>9739</th>\n",
       "      <td>193585</td>\n",
       "      <td>6397426</td>\n",
       "      <td>479308.0</td>\n",
       "    </tr>\n",
       "    <tr>\n",
       "      <th>9740</th>\n",
       "      <td>193587</td>\n",
       "      <td>8391976</td>\n",
       "      <td>483455.0</td>\n",
       "    </tr>\n",
       "    <tr>\n",
       "      <th>9741</th>\n",
       "      <td>193609</td>\n",
       "      <td>101726</td>\n",
       "      <td>37891.0</td>\n",
       "    </tr>\n",
       "  </tbody>\n",
       "</table>\n",
       "<p>9742 rows × 3 columns</p>\n",
       "</div>"
      ],
      "text/plain": [
       "      movieId   imdbId    tmdbId\n",
       "0           1   114709     862.0\n",
       "1           2   113497    8844.0\n",
       "2           3   113228   15602.0\n",
       "3           4   114885   31357.0\n",
       "4           5   113041   11862.0\n",
       "...       ...      ...       ...\n",
       "9737   193581  5476944  432131.0\n",
       "9738   193583  5914996  445030.0\n",
       "9739   193585  6397426  479308.0\n",
       "9740   193587  8391976  483455.0\n",
       "9741   193609   101726   37891.0\n",
       "\n",
       "[9742 rows x 3 columns]"
      ]
     },
     "execution_count": 4,
     "metadata": {},
     "output_type": "execute_result"
    }
   ],
   "source": [
    "links_df = pd.read_csv(\"links.csv\")\n",
    "links_df"
   ]
  },
  {
   "cell_type": "code",
   "execution_count": 5,
   "id": "c86847ee-3d25-4e86-8b73-c75b48a1a1bd",
   "metadata": {},
   "outputs": [
    {
     "data": {
      "text/html": [
       "<div>\n",
       "<style scoped>\n",
       "    .dataframe tbody tr th:only-of-type {\n",
       "        vertical-align: middle;\n",
       "    }\n",
       "\n",
       "    .dataframe tbody tr th {\n",
       "        vertical-align: top;\n",
       "    }\n",
       "\n",
       "    .dataframe thead th {\n",
       "        text-align: right;\n",
       "    }\n",
       "</style>\n",
       "<table border=\"1\" class=\"dataframe\">\n",
       "  <thead>\n",
       "    <tr style=\"text-align: right;\">\n",
       "      <th></th>\n",
       "      <th>userId</th>\n",
       "      <th>movieId</th>\n",
       "      <th>tag</th>\n",
       "      <th>timestamp</th>\n",
       "    </tr>\n",
       "  </thead>\n",
       "  <tbody>\n",
       "    <tr>\n",
       "      <th>0</th>\n",
       "      <td>2</td>\n",
       "      <td>60756</td>\n",
       "      <td>funny</td>\n",
       "      <td>1445714994</td>\n",
       "    </tr>\n",
       "    <tr>\n",
       "      <th>1</th>\n",
       "      <td>2</td>\n",
       "      <td>60756</td>\n",
       "      <td>Highly quotable</td>\n",
       "      <td>1445714996</td>\n",
       "    </tr>\n",
       "    <tr>\n",
       "      <th>2</th>\n",
       "      <td>2</td>\n",
       "      <td>60756</td>\n",
       "      <td>will ferrell</td>\n",
       "      <td>1445714992</td>\n",
       "    </tr>\n",
       "    <tr>\n",
       "      <th>3</th>\n",
       "      <td>2</td>\n",
       "      <td>89774</td>\n",
       "      <td>Boxing story</td>\n",
       "      <td>1445715207</td>\n",
       "    </tr>\n",
       "    <tr>\n",
       "      <th>4</th>\n",
       "      <td>2</td>\n",
       "      <td>89774</td>\n",
       "      <td>MMA</td>\n",
       "      <td>1445715200</td>\n",
       "    </tr>\n",
       "    <tr>\n",
       "      <th>...</th>\n",
       "      <td>...</td>\n",
       "      <td>...</td>\n",
       "      <td>...</td>\n",
       "      <td>...</td>\n",
       "    </tr>\n",
       "    <tr>\n",
       "      <th>3678</th>\n",
       "      <td>606</td>\n",
       "      <td>7382</td>\n",
       "      <td>for katie</td>\n",
       "      <td>1171234019</td>\n",
       "    </tr>\n",
       "    <tr>\n",
       "      <th>3679</th>\n",
       "      <td>606</td>\n",
       "      <td>7936</td>\n",
       "      <td>austere</td>\n",
       "      <td>1173392334</td>\n",
       "    </tr>\n",
       "    <tr>\n",
       "      <th>3680</th>\n",
       "      <td>610</td>\n",
       "      <td>3265</td>\n",
       "      <td>gun fu</td>\n",
       "      <td>1493843984</td>\n",
       "    </tr>\n",
       "    <tr>\n",
       "      <th>3681</th>\n",
       "      <td>610</td>\n",
       "      <td>3265</td>\n",
       "      <td>heroic bloodshed</td>\n",
       "      <td>1493843978</td>\n",
       "    </tr>\n",
       "    <tr>\n",
       "      <th>3682</th>\n",
       "      <td>610</td>\n",
       "      <td>168248</td>\n",
       "      <td>Heroic Bloodshed</td>\n",
       "      <td>1493844270</td>\n",
       "    </tr>\n",
       "  </tbody>\n",
       "</table>\n",
       "<p>3683 rows × 4 columns</p>\n",
       "</div>"
      ],
      "text/plain": [
       "      userId  movieId               tag   timestamp\n",
       "0          2    60756             funny  1445714994\n",
       "1          2    60756   Highly quotable  1445714996\n",
       "2          2    60756      will ferrell  1445714992\n",
       "3          2    89774      Boxing story  1445715207\n",
       "4          2    89774               MMA  1445715200\n",
       "...      ...      ...               ...         ...\n",
       "3678     606     7382         for katie  1171234019\n",
       "3679     606     7936           austere  1173392334\n",
       "3680     610     3265            gun fu  1493843984\n",
       "3681     610     3265  heroic bloodshed  1493843978\n",
       "3682     610   168248  Heroic Bloodshed  1493844270\n",
       "\n",
       "[3683 rows x 4 columns]"
      ]
     },
     "execution_count": 5,
     "metadata": {},
     "output_type": "execute_result"
    }
   ],
   "source": [
    "tags_df = pd.read_csv(\"tags.csv\")\n",
    "tags_df"
   ]
  },
  {
   "cell_type": "markdown",
   "id": "d6b86d15-5d5e-468c-b9e6-801213c8304a",
   "metadata": {},
   "source": [
    "# Join all the data frames"
   ]
  },
  {
   "cell_type": "code",
   "execution_count": 6,
   "id": "037b74ee-927b-4c23-9a63-6c2dae527c1d",
   "metadata": {},
   "outputs": [
    {
     "name": "stdout",
     "output_type": "stream",
     "text": [
      "The Shape of data is (233213, 11)\n"
     ]
    },
    {
     "data": {
      "text/html": [
       "<div>\n",
       "<style scoped>\n",
       "    .dataframe tbody tr th:only-of-type {\n",
       "        vertical-align: middle;\n",
       "    }\n",
       "\n",
       "    .dataframe tbody tr th {\n",
       "        vertical-align: top;\n",
       "    }\n",
       "\n",
       "    .dataframe thead th {\n",
       "        text-align: right;\n",
       "    }\n",
       "</style>\n",
       "<table border=\"1\" class=\"dataframe\">\n",
       "  <thead>\n",
       "    <tr style=\"text-align: right;\">\n",
       "      <th></th>\n",
       "      <th>movieId</th>\n",
       "      <th>title</th>\n",
       "      <th>genres</th>\n",
       "      <th>userId_x</th>\n",
       "      <th>rating</th>\n",
       "      <th>timestamp_x</th>\n",
       "      <th>userId_y</th>\n",
       "      <th>tag</th>\n",
       "      <th>timestamp_y</th>\n",
       "      <th>imdbId</th>\n",
       "      <th>tmdbId</th>\n",
       "    </tr>\n",
       "  </thead>\n",
       "  <tbody>\n",
       "    <tr>\n",
       "      <th>0</th>\n",
       "      <td>1</td>\n",
       "      <td>Toy Story (1995)</td>\n",
       "      <td>Adventure|Animation|Children|Comedy|Fantasy</td>\n",
       "      <td>1</td>\n",
       "      <td>4.0</td>\n",
       "      <td>964982703</td>\n",
       "      <td>336</td>\n",
       "      <td>pixar</td>\n",
       "      <td>1139045764</td>\n",
       "      <td>114709</td>\n",
       "      <td>862.0</td>\n",
       "    </tr>\n",
       "    <tr>\n",
       "      <th>1</th>\n",
       "      <td>1</td>\n",
       "      <td>Toy Story (1995)</td>\n",
       "      <td>Adventure|Animation|Children|Comedy|Fantasy</td>\n",
       "      <td>1</td>\n",
       "      <td>4.0</td>\n",
       "      <td>964982703</td>\n",
       "      <td>474</td>\n",
       "      <td>pixar</td>\n",
       "      <td>1137206825</td>\n",
       "      <td>114709</td>\n",
       "      <td>862.0</td>\n",
       "    </tr>\n",
       "    <tr>\n",
       "      <th>2</th>\n",
       "      <td>1</td>\n",
       "      <td>Toy Story (1995)</td>\n",
       "      <td>Adventure|Animation|Children|Comedy|Fantasy</td>\n",
       "      <td>1</td>\n",
       "      <td>4.0</td>\n",
       "      <td>964982703</td>\n",
       "      <td>567</td>\n",
       "      <td>fun</td>\n",
       "      <td>1525286013</td>\n",
       "      <td>114709</td>\n",
       "      <td>862.0</td>\n",
       "    </tr>\n",
       "    <tr>\n",
       "      <th>3</th>\n",
       "      <td>1</td>\n",
       "      <td>Toy Story (1995)</td>\n",
       "      <td>Adventure|Animation|Children|Comedy|Fantasy</td>\n",
       "      <td>5</td>\n",
       "      <td>4.0</td>\n",
       "      <td>847434962</td>\n",
       "      <td>336</td>\n",
       "      <td>pixar</td>\n",
       "      <td>1139045764</td>\n",
       "      <td>114709</td>\n",
       "      <td>862.0</td>\n",
       "    </tr>\n",
       "    <tr>\n",
       "      <th>4</th>\n",
       "      <td>1</td>\n",
       "      <td>Toy Story (1995)</td>\n",
       "      <td>Adventure|Animation|Children|Comedy|Fantasy</td>\n",
       "      <td>5</td>\n",
       "      <td>4.0</td>\n",
       "      <td>847434962</td>\n",
       "      <td>474</td>\n",
       "      <td>pixar</td>\n",
       "      <td>1137206825</td>\n",
       "      <td>114709</td>\n",
       "      <td>862.0</td>\n",
       "    </tr>\n",
       "  </tbody>\n",
       "</table>\n",
       "</div>"
      ],
      "text/plain": [
       "   movieId             title                                       genres  \\\n",
       "0        1  Toy Story (1995)  Adventure|Animation|Children|Comedy|Fantasy   \n",
       "1        1  Toy Story (1995)  Adventure|Animation|Children|Comedy|Fantasy   \n",
       "2        1  Toy Story (1995)  Adventure|Animation|Children|Comedy|Fantasy   \n",
       "3        1  Toy Story (1995)  Adventure|Animation|Children|Comedy|Fantasy   \n",
       "4        1  Toy Story (1995)  Adventure|Animation|Children|Comedy|Fantasy   \n",
       "\n",
       "   userId_x  rating  timestamp_x  userId_y    tag  timestamp_y  imdbId  tmdbId  \n",
       "0         1     4.0    964982703       336  pixar   1139045764  114709   862.0  \n",
       "1         1     4.0    964982703       474  pixar   1137206825  114709   862.0  \n",
       "2         1     4.0    964982703       567    fun   1525286013  114709   862.0  \n",
       "3         5     4.0    847434962       336  pixar   1139045764  114709   862.0  \n",
       "4         5     4.0    847434962       474  pixar   1137206825  114709   862.0  "
      ]
     },
     "execution_count": 6,
     "metadata": {},
     "output_type": "execute_result"
    }
   ],
   "source": [
    "combined_movies = (\n",
    "    movies_df.merge(ratings_df, on=\"movieId\", how=\"inner\")\n",
    "    .merge(tags_df, on=\"movieId\", how=\"inner\")\n",
    "    .merge(links_df, on=\"movieId\", how=\"inner\")\n",
    ")\n",
    "\n",
    "print(\"The Shape of data is {}\".format(combined_movies.shape))\n",
    "combined_movies.head()"
   ]
  },
  {
   "cell_type": "markdown",
   "id": "e7f2be62-c938-4f33-8f5a-be95892da389",
   "metadata": {},
   "source": [
    "### What is the shape of \"movies.csv\"?"
   ]
  },
  {
   "cell_type": "code",
   "execution_count": 7,
   "id": "215c50b1-dafe-4223-a291-0ac5af00caca",
   "metadata": {},
   "outputs": [
    {
     "name": "stdout",
     "output_type": "stream",
     "text": [
      "The shape of the movies.csv is (9742, 3)\n"
     ]
    }
   ],
   "source": [
    "print(f\"The shape of the movies.csv is {movies_df.shape}\")"
   ]
  },
  {
   "cell_type": "markdown",
   "id": "39be6184-1b8f-4fa4-a5eb-3fb3f438e073",
   "metadata": {},
   "source": [
    "### What is the shape of \"ratings.csv\"?"
   ]
  },
  {
   "cell_type": "code",
   "execution_count": 8,
   "id": "ddb404dd-2a3e-460c-9692-a825d2198a22",
   "metadata": {},
   "outputs": [
    {
     "name": "stdout",
     "output_type": "stream",
     "text": [
      "The shape of the movies.csv is (100836, 4)\n"
     ]
    }
   ],
   "source": [
    "print(f\"The shape of the movies.csv is {ratings_df.shape}\")"
   ]
  },
  {
   "cell_type": "markdown",
   "id": "7ce7d0b0-8b0f-44a6-b132-101e86462e02",
   "metadata": {},
   "source": [
    "### How many unique \"userId\" are available in \"ratings.csv\"?"
   ]
  },
  {
   "cell_type": "code",
   "execution_count": 9,
   "id": "8f056ad4-7979-45a5-851f-27d814f7e558",
   "metadata": {},
   "outputs": [
    {
     "data": {
      "text/plain": [
       "610"
      ]
     },
     "execution_count": 9,
     "metadata": {},
     "output_type": "execute_result"
    }
   ],
   "source": [
    "len(ratings_df[\"userId\"].unique())"
   ]
  },
  {
   "cell_type": "markdown",
   "id": "dd284a13-346d-4c8e-8c87-7956929ca0cc",
   "metadata": {},
   "source": [
    "### Which movie has recieved maximum number of user ratings?"
   ]
  },
  {
   "cell_type": "code",
   "execution_count": 10,
   "id": "9a121035-09ad-4a00-9d56-c96e308f4aa1",
   "metadata": {},
   "outputs": [
    {
     "name": "stdout",
     "output_type": "stream",
     "text": [
      "Movie with the maximum number of user ratings:\n",
      "MovieId: 356\n",
      "Title: Forrest Gump (1994)\n",
      "Number of Ratings: 329\n"
     ]
    }
   ],
   "source": [
    "ratings_count = ratings_df[\"movieId\"].value_counts()\n",
    "max_ratings_movieId = ratings_count.idxmax()\n",
    "max_ratings_count = ratings_count.max()\n",
    "max_ratings_title = movies_df.loc[\n",
    "    movies_df[\"movieId\"] == max_ratings_movieId, \"title\"\n",
    "].values[0]\n",
    "print(\"Movie with the maximum number of user ratings:\")\n",
    "print(\"MovieId:\", max_ratings_movieId)\n",
    "print(\"Title:\", max_ratings_title)\n",
    "print(\"Number of Ratings:\", max_ratings_count)"
   ]
  },
  {
   "cell_type": "markdown",
   "id": "260ef5eb-4877-4796-8769-6d4707425b68",
   "metadata": {},
   "source": [
    "### Select all the correct tags submitted by users to \"Matrix, The (1999)\" movie"
   ]
  },
  {
   "cell_type": "code",
   "execution_count": 11,
   "id": "e99db75e-c52d-4602-b964-488d8b4ada75",
   "metadata": {},
   "outputs": [
    {
     "name": "stdout",
     "output_type": "stream",
     "text": [
      "Tags for The Matrix (1999):\n",
      "['martial arts' 'sci-fi' 'alternate universe' 'philosophy'\n",
      " 'post apocalyptic']\n"
     ]
    }
   ],
   "source": [
    "matrix_movieId = movies_df[\n",
    "    movies_df[\"title\"].str.contains(\"Matrix, The \\(1999\\)\", regex=True)\n",
    "][\"movieId\"].iloc[0]\n",
    "tags_df = pd.read_csv(\"tags.csv\", encoding=\"utf-8\")\n",
    "matrix_tags = tags_df[tags_df[\"movieId\"] == matrix_movieId][\"tag\"].unique()\n",
    "print(\"Tags for The Matrix (1999):\")\n",
    "print(matrix_tags)"
   ]
  },
  {
   "cell_type": "markdown",
   "id": "58c5b8a5-7730-4b20-95d2-42e2951e9f08",
   "metadata": {},
   "source": [
    "### What is the average user rating for movie named \"Terminator 2: Judgment Day (1991)\"?"
   ]
  },
  {
   "cell_type": "code",
   "execution_count": 12,
   "id": "69eac0bb-ad6c-4274-81f7-283321b61563",
   "metadata": {},
   "outputs": [
    {
     "name": "stdout",
     "output_type": "stream",
     "text": [
      "Average user rating for Terminator 2: Judgment Day (1991):\n",
      "3.970982142857143\n"
     ]
    }
   ],
   "source": [
    "terminator_movieId = movies_df[\n",
    "    movies_df[\"title\"] == \"Terminator 2: Judgment Day (1991)\"\n",
    "][\"movieId\"].iloc[0]\n",
    "terminator_avg_rating = ratings_df[ratings_df[\"movieId\"] == terminator_movieId][\n",
    "    \"rating\"\n",
    "].mean()\n",
    "print(\"Average user rating for Terminator 2: Judgment Day (1991):\")\n",
    "print(terminator_avg_rating)"
   ]
  },
  {
   "cell_type": "markdown",
   "id": "9fb72833-15de-46c3-94a6-3349d1eb5ee0",
   "metadata": {},
   "source": [
    "### How does the data distribution of user ratings for \"Fight Club (1999)\" movie looks like?"
   ]
  },
  {
   "cell_type": "code",
   "execution_count": 13,
   "id": "cb176d89-79e4-48fd-a834-96be9af9f03e",
   "metadata": {},
   "outputs": [
    {
     "data": {
      "image/png": "[encoded data removed]",
      "text/plain": [
       "<Figure size 1000x500 with 1 Axes>"
      ]
     },
     "metadata": {},
     "output_type": "display_data"
    }
   ],
   "source": [
    "fight_club_movieId = movies_df[movies_df[\"title\"] == \"Fight Club (1999)\"][\n",
    "    \"movieId\"\n",
    "].iloc[0]\n",
    "fight_club_ratings = ratings_df[ratings_df[\"movieId\"] == fight_club_movieId][\"rating\"]\n",
    "plt.figure(figsize=(10, 5))\n",
    "sns.kdeplot(fight_club_ratings)\n",
    "plt.title(\"Distribution of User Ratings for Fight Club (1999)\")\n",
    "plt.xlabel(\"Rating\")\n",
    "plt.ylabel(\"Density\")\n",
    "plt.show()"
   ]
  },
  {
   "cell_type": "markdown",
   "id": "b3da3c32-9269-4241-91bb-bd6fa51e9bc2",
   "metadata": {},
   "source": [
    " The above graph is left skewed "
   ]
  },
  {
   "cell_type": "markdown",
   "id": "7a4ba637-7321-45b1-9ffd-bd7d0693b1c0",
   "metadata": {},
   "source": [
    "### Which movie is the most popular based on  average user ratings?"
   ]
  },
  {
   "cell_type": "code",
   "execution_count": 14,
   "id": "3881bd10-df00-4ee8-8ef2-4fb0bf48342e",
   "metadata": {
    "scrolled": true
   },
   "outputs": [],
   "source": [
    "ratings_count = ratings_df.groupby(\"movieId\").size()\n",
    "movies_with_100plus_ratings = ratings_count[ratings_count >= 100].index\n",
    "average_ratings_100plus = (\n",
    "    ratings_df[ratings_df[\"movieId\"].isin(movies_with_100plus_ratings)]\n",
    "    .groupby(\"movieId\")[\"rating\"]\n",
    "    .mean()\n",
    ")\n",
    "most_popular_by_avg_rating_100plus = average_ratings_100plus.idxmax()\n",
    "most_popular_movie_title_100plus = movies_df[\n",
    "    movies_df[\"movieId\"] == most_popular_by_avg_rating_100plus\n",
    "][\"title\"].iloc[0]"
   ]
  },
  {
   "cell_type": "code",
   "execution_count": 15,
   "id": "6cf7e39f-5551-4dc7-ab5e-97b3b86a3c84",
   "metadata": {},
   "outputs": [
    {
     "data": {
      "text/plain": [
       "'Shawshank Redemption, The (1994)'"
      ]
     },
     "execution_count": 15,
     "metadata": {},
     "output_type": "execute_result"
    }
   ],
   "source": [
    "most_popular_movie_title_100plus"
   ]
  },
  {
   "cell_type": "markdown",
   "id": "52e961b7-f6b0-425b-83e2-552f311c3076",
   "metadata": {},
   "source": [
    "### Select all the correct options which comes under top 5 popular movies based on number of user ratings."
   ]
  },
  {
   "cell_type": "code",
   "execution_count": 16,
   "id": "b92877f0-102c-4928-b272-d93030c3beee",
   "metadata": {},
   "outputs": [
    {
     "data": {
      "text/plain": [
       "['Pulp Fiction (1994)',\n",
       " 'Shawshank Redemption, The (1994)',\n",
       " 'Forrest Gump (1994)',\n",
       " 'Silence of the Lambs, The (1991)',\n",
       " 'Matrix, The (1999)']"
      ]
     },
     "execution_count": 16,
     "metadata": {},
     "output_type": "execute_result"
    }
   ],
   "source": [
    "top_movies_by_user_ratings = ratings_df[\"movieId\"].value_counts().head(5).index.tolist()\n",
    "top_movies_titles = movies_df[movies_df[\"movieId\"].isin(top_movies_by_user_ratings)][\n",
    "    \"title\"\n",
    "].tolist()\n",
    "top_movies_titles"
   ]
  },
  {
   "cell_type": "markdown",
   "id": "8775c9ac-1e7f-427e-b97a-d8d8a162495c",
   "metadata": {},
   "source": [
    "### Which Sci-Fi movie is \"third most popular\" based on the number of user ratings?"
   ]
  },
  {
   "cell_type": "code",
   "execution_count": 17,
   "id": "9c667576-6a4b-40b1-88e5-0dddf8c98e38",
   "metadata": {},
   "outputs": [],
   "source": [
    "sci_fi_movies = movies_df[movies_df[\"genres\"].str.contains(\"Sci-Fi\")]\n",
    "sci_fi_movie_ratings = ratings_df[ratings_df[\"movieId\"].isin(sci_fi_movies[\"movieId\"])][\n",
    "    \"movieId\"\n",
    "].value_counts()\n",
    "third_most_popular_sci_fi_movie_id = sci_fi_movie_ratings.index[2]\n",
    "third_most_popular_sci_fi_movie_title = movies_df[\n",
    "    movies_df[\"movieId\"] == third_most_popular_sci_fi_movie_id\n",
    "][\"title\"].iloc[0]"
   ]
  },
  {
   "cell_type": "code",
   "execution_count": 18,
   "id": "14564975-32a5-4ec1-bd07-f87a1fc04bb3",
   "metadata": {},
   "outputs": [
    {
     "data": {
      "text/plain": [
       "'Jurassic Park (1993)'"
      ]
     },
     "execution_count": 18,
     "metadata": {},
     "output_type": "execute_result"
    }
   ],
   "source": [
    "third_most_popular_sci_fi_movie_title"
   ]
  },
  {
   "cell_type": "markdown",
   "id": "067da0fe-09ec-4f4a-a192-622b5e09af33",
   "metadata": {},
   "source": [
    "### Mention the movieId of the movie which has the highest IMDB rating."
   ]
  },
  {
   "cell_type": "code",
   "execution_count": 21,
   "id": "2270e57a-d9ab-4396-8425-95756389284f",
   "metadata": {},
   "outputs": [],
   "source": [
    "merged_ratings_imdb = average_ratings_100plus.reset_index().merge(\n",
    "    links_df, on=\"movieId\"\n",
    ")"
   ]
  },
  {
   "cell_type": "code",
   "execution_count": 22,
   "id": "3386223e-3557-49ce-b357-f817ecbb4fd7",
   "metadata": {},
   "outputs": [],
   "source": [
    "highest_imdb_rating = merged_ratings_imdb[\"rating\"].max()\n",
    "highest_imdb_movieId = merged_ratings_imdb[\n",
    "    merged_ratings_imdb[\"rating\"] == highest_imdb_rating\n",
    "][\"movieId\"].iloc[0]"
   ]
  },
  {
   "cell_type": "code",
   "execution_count": 23,
   "id": "91a3cf05-8264-4778-9175-70ffb8991242",
   "metadata": {},
   "outputs": [
    {
     "data": {
      "text/plain": [
       "318"
      ]
     },
     "execution_count": 23,
     "metadata": {},
     "output_type": "execute_result"
    }
   ],
   "source": [
    "highest_imdb_movieId"
   ]
  },
  {
   "cell_type": "code",
   "execution_count": 24,
   "id": "21dd8419-51ae-45bb-81dc-da45ffc105ef",
   "metadata": {},
   "outputs": [
    {
     "data": {
      "text/html": [
       "<div>\n",
       "<style scoped>\n",
       "    .dataframe tbody tr th:only-of-type {\n",
       "        vertical-align: middle;\n",
       "    }\n",
       "\n",
       "    .dataframe tbody tr th {\n",
       "        vertical-align: top;\n",
       "    }\n",
       "\n",
       "    .dataframe thead th {\n",
       "        text-align: right;\n",
       "    }\n",
       "</style>\n",
       "<table border=\"1\" class=\"dataframe\">\n",
       "  <thead>\n",
       "    <tr style=\"text-align: right;\">\n",
       "      <th></th>\n",
       "      <th>movieId</th>\n",
       "      <th>title</th>\n",
       "      <th>genres</th>\n",
       "    </tr>\n",
       "  </thead>\n",
       "  <tbody>\n",
       "    <tr>\n",
       "      <th>277</th>\n",
       "      <td>318</td>\n",
       "      <td>Shawshank Redemption, The (1994)</td>\n",
       "      <td>Crime|Drama</td>\n",
       "    </tr>\n",
       "  </tbody>\n",
       "</table>\n",
       "</div>"
      ],
      "text/plain": [
       "     movieId                             title       genres\n",
       "277      318  Shawshank Redemption, The (1994)  Crime|Drama"
      ]
     },
     "execution_count": 24,
     "metadata": {},
     "output_type": "execute_result"
    }
   ],
   "source": [
    "movies_df[movies_df[\"movieId\"] == 318]"
   ]
  },
  {
   "cell_type": "markdown",
   "id": "84aaf7ce-8435-46e2-aac8-45fbe34f1b0b",
   "metadata": {},
   "source": [
    "### Mention the movieId of the \"Sci-Fi\" movie which has the highest IMDB rating."
   ]
  },
  {
   "cell_type": "code",
   "execution_count": 26,
   "id": "719c3a0b-0625-4301-9c93-bc905ce67a63",
   "metadata": {},
   "outputs": [
    {
     "data": {
      "text/html": [
       "<div>\n",
       "<style scoped>\n",
       "    .dataframe tbody tr th:only-of-type {\n",
       "        vertical-align: middle;\n",
       "    }\n",
       "\n",
       "    .dataframe tbody tr th {\n",
       "        vertical-align: top;\n",
       "    }\n",
       "\n",
       "    .dataframe thead th {\n",
       "        text-align: right;\n",
       "    }\n",
       "</style>\n",
       "<table border=\"1\" class=\"dataframe\">\n",
       "  <thead>\n",
       "    <tr style=\"text-align: right;\">\n",
       "      <th></th>\n",
       "      <th>movieId</th>\n",
       "      <th>title</th>\n",
       "      <th>rating</th>\n",
       "    </tr>\n",
       "  </thead>\n",
       "  <tbody>\n",
       "    <tr>\n",
       "      <th>2</th>\n",
       "      <td>260</td>\n",
       "      <td>Star Wars: Episode IV - A New Hope (1977)</td>\n",
       "      <td>4.231076</td>\n",
       "    </tr>\n",
       "  </tbody>\n",
       "</table>\n",
       "</div>"
      ],
      "text/plain": [
       "   movieId                                      title    rating\n",
       "2      260  Star Wars: Episode IV - A New Hope (1977)  4.231076"
      ]
     },
     "execution_count": 26,
     "metadata": {},
     "output_type": "execute_result"
    }
   ],
   "source": [
    "df_sci_fi_movies = movies_df[movies_df[\"genres\"].str.contains(\"Sci-Fi\")]\n",
    "df_sci_fi_ratings = df_sci_fi_movies.merge(\n",
    "    average_ratings_100plus.reset_index(), on=\"movieId\"\n",
    ")\n",
    "highest_rated_sci_fi_movie = df_sci_fi_ratings[\n",
    "    df_sci_fi_ratings[\"rating\"] == df_sci_fi_ratings[\"rating\"].max()\n",
    "]\n",
    "highest_rated_sci_fi_movie[[\"movieId\", \"title\", \"rating\"]]"
   ]
  },
  {
   "cell_type": "code",
   "execution_count": null,
   "id": "4a766a7b-e94d-4c87-b6a3-fb1a11edb73d",
   "metadata": {},
   "outputs": [],
   "source": []
  },
  {
   "cell_type": "code",
   "execution_count": null,
   "id": "136262bf-b17b-4797-bb0c-cd3d6f1c11e6",
   "metadata": {},
   "outputs": [],
   "source": []
  }
 ],
 "metadata": {
  "kernelspec": {
   "display_name": "Python 3 (ipykernel)",
   "language": "python",
   "name": "python3"
  },
  "language_info": {
   "codemirror_mode": {
    "name": "ipython",
    "version": 3
   },
   "file_extension": ".py",
   "mimetype": "text/x-python",
   "name": "python",
   "nbconvert_exporter": "python",
   "pygments_lexer": "ipython3",
   "version": "3.11.5"
  }
 },
 "nbformat": 4,
 "nbformat_minor": 5
}
